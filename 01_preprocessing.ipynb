{
 "cells": [
  {
   "cell_type": "code",
   "execution_count": null,
   "id": "ee559cf4",
   "metadata": {},
   "outputs": [],
   "source": [
    "import sys\n",
    "import os\n",
    "\n",
    "sys.path.append(\"scripts\")\n",
    "\n",
    "try:\n",
    "\tfrom encode_dna import read_fasta, filter_short_sequences, encode_kmer_batch, one_hot_encode, save_numpy_array\n",
    "except ModuleNotFoundError:\n",
    "\tfrom encode_dna import read_fasta, filter_short_sequences, encode_kmer_batch, one_hot_encode, save_numpy_array\n",
    "\t\n",
    "import numpy as np"
   ]
  },
  {
   "cell_type": "markdown",
   "id": "937d1a67",
   "metadata": {},
   "source": [
    "# 🧬 1. Load and filter sequences"
   ]
  },
  {
   "cell_type": "code",
   "execution_count": 20,
   "id": "c99e0c4f",
   "metadata": {},
   "outputs": [
    {
     "name": "stdout",
     "output_type": "stream",
     "text": [
      "Found FASTA file at: data/raw/azadirachta_indica.fasta\n",
      "Total sequences: 1\n",
      "Filtered sequences (len ≥ 30): 1\n"
     ]
    }
   ],
   "source": [
    "# Define potential file paths to try\n",
    "potential_paths = [\n",
    "\t\"../data/raw/azadirachta_indica.fasta\",\n",
    "\t\"data/raw/azadirachta_indica.fasta\",\n",
    "\t\"./data/raw/azadirachta_indica.fasta\",\n",
    "\tos.path.join(os.getcwd(), \"data/raw/azadirachta_indica.fasta\")\n",
    "]\n",
    "\n",
    "# Try each path until we find the file\n",
    "fasta_path = None\n",
    "for path in potential_paths:\n",
    "\tif os.path.exists(path):\n",
    "\t\tfasta_path = path\n",
    "\t\tprint(f\"Found FASTA file at: {path}\")\n",
    "\t\tbreak\n",
    "\n",
    "# If no file found, prompt user for the correct path\n",
    "if not fasta_path:\n",
    "\tprint(f\"❌ Error: FASTA file not found. Current directory: {os.getcwd()}\")\n",
    "\tfasta_path = input(\"Please enter the correct path to the FASTA file: \")\n",
    "\n",
    "# Read sequences\n",
    "sequences = read_fasta(fasta_path)\n",
    "print(f\"Total sequences: {len(sequences)}\")\n",
    "\n",
    "filtered = filter_short_sequences(sequences, min_length=30)\n",
    "print(f\"Filtered sequences (len ≥ 30): {len(filtered)}\")"
   ]
  },
  {
   "cell_type": "markdown",
   "id": "cd479c83",
   "metadata": {},
   "source": [
    "🧪 2. K-mer Encoding"
   ]
  },
  {
   "cell_type": "code",
   "execution_count": 21,
   "id": "bddfa4e5",
   "metadata": {},
   "outputs": [
    {
     "name": "stdout",
     "output_type": "stream",
     "text": [
      "K-mer encoded shape: (1, 64)\n",
      "Successfully saved k-mer encoding to: data/processed\\X_kmer.npy\n"
     ]
    }
   ],
   "source": [
    "X_kmer, kmer_vocab = encode_kmer_batch(filtered, k=3)\n",
    "print(f\"K-mer encoded shape: {X_kmer.shape}\")\n",
    "\n",
    "# Create output directory if it doesn't exist\n",
    "output_dir = \"data/processed\"\n",
    "os.makedirs(output_dir, exist_ok=True)\n",
    "output_path = os.path.join(output_dir, \"X_kmer.npy\")\n",
    "\n",
    "save_numpy_array(X_kmer, output_path)\n",
    "print(f\"Successfully saved k-mer encoding to: {output_path}\")"
   ]
  },
  {
   "cell_type": "markdown",
   "id": "865dfdac",
   "metadata": {},
   "source": [
    "# 🔢 3. One-hot Encoding (optional – for CNNs)\n",
    "# WARNING: This can consume lots of RAM if too many sequences"
   ]
  },
  {
   "cell_type": "code",
   "execution_count": 22,
   "id": "564bde7d",
   "metadata": {},
   "outputs": [
    {
     "name": "stdout",
     "output_type": "stream",
     "text": [
      "One-hot encoded shape: (1, 160737)\n"
     ]
    }
   ],
   "source": [
    "try:\n",
    "    X_onehot = one_hot_encode(filtered)\n",
    "    print(f\"One-hot encoded shape: {X_onehot.shape}\")\n",
    "    # Create output directory if it doesn't exist\n",
    "    output_dir = \"data/processed\"\n",
    "    os.makedirs(output_dir, exist_ok=True)\n",
    "    output_path = os.path.join(output_dir, \"X_onehot.npy\")\n",
    "    save_numpy_array(X_onehot, output_path)\n",
    "except Exception as e:\n",
    "    print(\"❌ One-hot encoding failed:\", e)"
   ]
  },
  {
   "cell_type": "markdown",
   "id": "346e37ea",
   "metadata": {},
   "source": [
    "# ✅ Done"
   ]
  },
  {
   "cell_type": "code",
   "execution_count": 23,
   "id": "b3940fb2",
   "metadata": {},
   "outputs": [
    {
     "name": "stdout",
     "output_type": "stream",
     "text": [
      "🎉 Preprocessing complete. Encoded data saved.\n"
     ]
    }
   ],
   "source": [
    "print(\"🎉 Preprocessing complete. Encoded data saved.\")"
   ]
  }
 ],
 "metadata": {
  "kernelspec": {
   "display_name": "Python (tf-gpu)",
   "language": "python",
   "name": "tf-gpu"
  },
  "language_info": {
   "codemirror_mode": {
    "name": "ipython",
    "version": 3
   },
   "file_extension": ".py",
   "mimetype": "text/x-python",
   "name": "python",
   "nbconvert_exporter": "python",
   "pygments_lexer": "ipython3",
   "version": "3.9.23"
  }
 },
 "nbformat": 4,
 "nbformat_minor": 5
}
