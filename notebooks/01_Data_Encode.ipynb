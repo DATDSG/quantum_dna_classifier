{
  "nbformat": 4,
  "nbformat_minor": 5,
  "metadata": {
    "kernelspec": {
      "name": "python3",
      "display_name": "Python 3",
      "language": "python"
    },
    "language_info": {
      "name": "python",
      "version": "3.x",
      "mimetype": "text/x-python",
      "codemirror_mode": {
        "name": "ipython",
        "version": 3
      },
      "pygments_lexer": "ipython3",
      "nbconvert_exporter": "python",
      "file_extension": ".py"
    }
  },
  "cells": [
    {
      "id": "013af8f9",
      "cell_type": "code",
      "metadata": {},
      "execution_count": null,
      "source": "# Build windows/labels and encodings (requires configs and scripts present).\nimport os, json, numpy as np, pathlib, subprocess, sys\nos.environ[\"CUDA_VISIBLE_DEVICES\"]=\"-1\"; os.environ[\"TF_FORCE_CPU\"]=\"1\"\n\ndef run(cmd):\n    print(\">>\", cmd)\n    r = subprocess.run(cmd, shell=True, check=True, text=True, stdout=subprocess.PIPE, stderr=subprocess.STDOUT)\n    print(r.stdout)\n\n# If you didn't set NCBI_EMAIL, drop data/raw/KF986530.1.gb and re-run.\nrun(\"python -u scripts/preprocess_genbank.py --config configs/data.yaml\")\nrun(\"python -u scripts/encode_dna.py --encoding-config configs/encoding.yaml --data-config configs/data.yaml\")\n\n# Inspect shapes\nfrom pathlib import Path\np = Path(\"data/processed\")\noh = sorted(p.glob(\"onehot_L*.npy\"))\nkm = sorted(p.glob(\"kmer_k*.npy\"))\nprint(\"one-hot:\", oh[0] if oh else None, np.load(oh[0]).shape if oh else None)\nprint(\"k-mer:\", km[0] if km else None, np.load(km[0]).shape if km else None)",
      "outputs": []
    }
  ]
}