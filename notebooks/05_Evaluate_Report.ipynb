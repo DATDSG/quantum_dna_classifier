{
  "nbformat": 4,
  "nbformat_minor": 5,
  "metadata": {
    "kernelspec": {
      "name": "python3",
      "display_name": "Python 3",
      "language": "python"
    },
    "language_info": {
      "name": "python",
      "version": "3.x",
      "mimetype": "text/x-python",
      "codemirror_mode": {
        "name": "ipython",
        "version": 3
      },
      "pygments_lexer": "ipython3",
      "nbconvert_exporter": "python",
      "file_extension": ".py"
    }
  },
  "cells": [
    {
      "id": "24af6c34",
      "cell_type": "code",
      "metadata": {},
      "execution_count": null,
      "source": "# Aggregate + plots (HTML-first to avoid Kaleido issues on Windows)\nimport os, subprocess, json, webbrowser\nos.environ[\"CUDA_VISIBLE_DEVICES\"]=\"-1\"; os.environ[\"TF_FORCE_CPU\"]=\"1\"\nprint(subprocess.run(\"python -u scripts/evaluate.py --eval-config configs/evaluation.yaml --tracking configs/tracking.yaml\",\n                     shell=True, text=True, capture_output=True).stdout)\nprint(subprocess.run(\"python -u scripts/visualize.py --eval-config configs/evaluation.yaml --html-only\",\n                     shell=True, text=True, capture_output=True).stdout)\n\nfrom pathlib import Path\nagg = Path(\"results/metrics/aggregate.json\"); print(\"aggregate.json:\", agg.exists())\nif agg.exists(): print(agg.read_text())\n\nhtml = Path(\"results/plots/f1_bar.html\")\nprint(\"Open:\", html.as_posix())",
      "outputs": []
    }
  ]
}