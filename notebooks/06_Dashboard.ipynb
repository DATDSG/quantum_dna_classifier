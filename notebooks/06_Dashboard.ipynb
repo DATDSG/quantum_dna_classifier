{
  "nbformat": 4,
  "nbformat_minor": 5,
  "metadata": {
    "kernelspec": {
      "name": "python3",
      "display_name": "Python 3",
      "language": "python"
    },
    "language_info": {
      "name": "python",
      "version": "3.x",
      "mimetype": "text/x-python",
      "codemirror_mode": {
        "name": "ipython",
        "version": 3
      },
      "pygments_lexer": "ipython3",
      "nbconvert_exporter": "python",
      "file_extension": ".py"
    }
  },
  "cells": [
    {
      "id": "75536e1c",
      "cell_type": "code",
      "metadata": {},
      "execution_count": null,
      "source": "# Start the dashboard from notebook (best-effort). Stop by interrupting the kernel.\nimport os, subprocess, sys, time, webbrowser, platform\nos.environ[\"CUDA_VISIBLE_DEVICES\"]=\"-1\"; os.environ[\"TF_FORCE_CPU\"]=\"1\"\nprint(\"Starting dashboard on http://127.0.0.1:8050 ...\")\np = subprocess.Popen([sys.executable, \"-u\", \"dashboard/app.py\"], stdout=subprocess.PIPE, stderr=subprocess.STDOUT, text=True)\ntime.sleep(3)\nwebbrowser.open(\"http://127.0.0.1:8050\")\nprint(\"Dashboard process PID:\", p.pid)\nprint(\"Tail (first 10 lines):\")\nfor i in range(10):\n    line = p.stdout.readline()\n    if not line: break\n    print(line.rstrip())\n\n# Keep process running while this cell holds. Stop with Kernel -> Interrupt/Restart, or p.terminate().\n# p.terminate()  # uncomment to stop automatically",
      "outputs": []
    }
  ]
}