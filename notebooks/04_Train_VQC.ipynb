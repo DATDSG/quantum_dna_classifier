{
  "nbformat": 4,
  "nbformat_minor": 5,
  "metadata": {
    "kernelspec": {
      "name": "python3",
      "display_name": "Python 3",
      "language": "python"
    },
    "language_info": {
      "name": "python",
      "version": "3.x",
      "mimetype": "text/x-python",
      "codemirror_mode": {
        "name": "ipython",
        "version": 3
      },
      "pygments_lexer": "ipython3",
      "nbconvert_exporter": "python",
      "file_extension": ".py"
    }
  },
  "cells": [
    {
      "id": "ad0f957c",
      "cell_type": "code",
      "metadata": {},
      "execution_count": null,
      "source": "# Train VQC (PennyLane) on CPU\nimport os, subprocess, json\nos.environ[\"CUDA_VISIBLE_DEVICES\"]=\"-1\"; os.environ[\"TF_FORCE_CPU\"]=\"1\"\ncmd = \"python -u scripts/quantum_pipeline_pennylane.py --qconfig configs/quantum_pennylane.yaml --encoding-config configs/encoding.yaml --eval-config configs/evaluation.yaml --tracking configs/tracking.yaml\"\nprint(\">>\", cmd)\nr = subprocess.run(cmd, shell=True, check=True, text=True, stdout=subprocess.PIPE, stderr=subprocess.STDOUT)\nprint(r.stdout)\n\nfrom pathlib import Path\np = Path(\"results/metrics/vqc.json\")\nprint(\"vqc.json exists:\", p.exists())\nif p.exists():\n    print(p.read_text())",
      "outputs": []
    }
  ]
}