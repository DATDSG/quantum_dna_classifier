{
  "nbformat": 4,
  "nbformat_minor": 5,
  "metadata": {
    "kernelspec": {
      "name": "python3",
      "display_name": "Python 3",
      "language": "python"
    },
    "language_info": {
      "name": "python",
      "version": "3.x",
      "mimetype": "text/x-python",
      "codemirror_mode": {
        "name": "ipython",
        "version": 3
      },
      "pygments_lexer": "ipython3",
      "nbconvert_exporter": "python",
      "file_extension": ".py"
    }
  },
  "cells": [
    {
      "id": "efcbe980",
      "cell_type": "code",
      "metadata": {},
      "execution_count": null,
      "source": "# CPU-only quickstart checks\nimport os, json, platform, sys, subprocess, shlex\nos.environ[\"CUDA_VISIBLE_DEVICES\"]=\"-1\"\nos.environ[\"TF_FORCE_CPU\"]=\"1\"\nprint(\"Python:\", sys.version)\nprint(\"Platform:\", platform.platform())\nprint(\"CPU-only env:\", {k:os.environ[k] for k in [\"CUDA_VISIBLE_DEVICES\",\"TF_FORCE_CPU\"]})",
      "outputs": []
    },
    {
      "id": "1b6d07f4",
      "cell_type": "code",
      "metadata": {},
      "execution_count": null,
      "source": "# TensorFlow CPU check\nimport tensorflow as tf\nprint(\"GPUs:\", tf.config.list_physical_devices(\"GPU\"))",
      "outputs": []
    },
    {
      "id": "4ce1ef5c",
      "cell_type": "code",
      "metadata": {},
      "execution_count": null,
      "source": "# Qiskit Aer check\nfrom qiskit_aer import Aer\nprint(\"Aer backend:\", Aer.get_backend(\"aer_simulator_statevector\").name())",
      "outputs": []
    },
    {
      "id": "f59c9dc0",
      "cell_type": "code",
      "metadata": {},
      "execution_count": null,
      "source": "# PennyLane check\nimport pennylane as qml\ntry:\n    dev = qml.device(\"lightning.qubit\", wires=2)\nexcept Exception:\n    dev = qml.device(\"default.qubit\", wires=2)\n@qml.qnode(dev)\ndef f(x):\n    qml.RX(x,0); return qml.probs(wires=[0])\nprint(\"PL device:\", dev.name, \"sample:\", f(0.1))",
      "outputs": []
    }
  ]
}