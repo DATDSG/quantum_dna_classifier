{
  "nbformat": 4,
  "nbformat_minor": 5,
  "metadata": {
    "kernelspec": {
      "name": "python3",
      "display_name": "Python 3",
      "language": "python"
    },
    "language_info": {
      "name": "python",
      "version": "3.x",
      "mimetype": "text/x-python",
      "codemirror_mode": {
        "name": "ipython",
        "version": 3
      },
      "pygments_lexer": "ipython3",
      "nbconvert_exporter": "python",
      "file_extension": ".py"
    }
  },
  "cells": [
    {
      "id": "ba903297",
      "cell_type": "code",
      "metadata": {},
      "execution_count": null,
      "source": "# Train classical models (SVM/CNN) on CPU\nimport os, json, subprocess, numpy as np\nos.environ[\"CUDA_VISIBLE_DEVICES\"]=\"-1\"; os.environ[\"TF_FORCE_CPU\"]=\"1\"\ncmd = \"python -u scripts/classical_pipeline.py --models-config configs/classical_models.yaml --encoding-config configs/encoding.yaml --eval-config configs/evaluation.yaml --tracking configs/tracking.yaml\"\nprint(\">>\", cmd)\nr = subprocess.run(cmd, shell=True, check=True, text=True, stdout=subprocess.PIPE, stderr=subprocess.STDOUT)\nprint(r.stdout)\n\n# Load metrics\nfrom pathlib import Path\nm = Path(\"results/metrics/classical_summary.json\")\nprint(\"classical_summary.json exists:\", m.exists())\nif m.exists():\n    print(m.read_text())",
      "outputs": []
    }
  ]
}