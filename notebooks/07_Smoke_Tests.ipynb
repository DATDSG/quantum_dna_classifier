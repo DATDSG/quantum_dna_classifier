{
  "nbformat": 4,
  "nbformat_minor": 5,
  "metadata": {
    "kernelspec": {
      "name": "python3",
      "display_name": "Python 3",
      "language": "python"
    },
    "language_info": {
      "name": "python",
      "version": "3.x",
      "mimetype": "text/x-python",
      "codemirror_mode": {
        "name": "ipython",
        "version": 3
      },
      "pygments_lexer": "ipython3",
      "nbconvert_exporter": "python",
      "file_extension": ".py"
    }
  },
  "cells": [
    {
      "id": "9e97de58",
      "cell_type": "code",
      "metadata": {},
      "execution_count": null,
      "source": "# Quick smoke tests (no dataset)\nimport os, numpy as np, tensorflow as tf, pennylane as qml\nos.environ[\"CUDA_VISIBLE_DEVICES\"]=\"-1\"; os.environ[\"TF_FORCE_CPU\"]=\"1\"\n# CNN forward\nm = tf.keras.Sequential([tf.keras.layers.Input((8,4)),\n                         tf.keras.layers.Conv1D(4,3,padding=\"same\",activation=\"relu\"),\n                         tf.keras.layers.GlobalAveragePooling1D(),\n                         tf.keras.layers.Dense(1,activation=\"sigmoid\")])\nx = np.random.rand(16,8,4).astype(\"float32\")\ny = m(x).numpy()\nprint(\"CNN out shape:\", y.shape)\n\n# VQC forward\ntry:\n    dev = qml.device(\"lightning.qubit\", wires=2)\nexcept Exception:\n    dev = qml.device(\"default.qubit\", wires=2)\n\n@qml.qnode(dev)\ndef circ(x):\n    qml.RX(x[0],0); qml.RY(x[1],1); qml.CNOT(wires=[0,1]); return qml.probs(wires=[0,1])\n\nprint(\"VQC probs sum:\", float(circ(np.array([0.1,0.2])).sum()))",
      "outputs": []
    }
  ]
}